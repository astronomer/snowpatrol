{
 "cells": [
  {
   "cell_type": "code",
   "execution_count": 1,
   "metadata": {},
   "outputs": [],
   "source": [
    "from snowflake.snowpark import (\n",
    "    Session,\n",
    "    functions as F, \n",
    "    types as T\n",
    ")\n",
    "import os\n",
    "import json\n",
    "import pandas as pd\n",
    "import datetime\n",
    "import calendar\n",
    "from pandas.tseries.offsets import MonthEnd"
   ]
  },
  {
   "cell_type": "code",
   "execution_count": 2,
   "metadata": {},
   "outputs": [],
   "source": [
    "snowflake_connections = [\"AIRFLOW_CONN_SNOWFLAKE_DEFAULT\"]\n",
    "snowflake_accounts = [\"FY02423-SNOWSERVICES_PREVIEW\", \"FY02423-GP21411\"]"
   ]
  },
  {
   "cell_type": "code",
   "execution_count": 3,
   "metadata": {},
   "outputs": [],
   "source": [
    "connection_params = json.loads(os.environ[snowflake_connections[0]])\n",
    "connection_params['user'] = connection_params.pop('login')\n",
    "connection_params['account'] = snowflake_accounts[1] #connection_params['extra'].pop('account')\n",
    "# connection_params['role'] = \"ACCOUNTADMIN\"\n",
    "connection_params['database'] = \"sandbox\" #connection_params['extra'].pop('database')\n",
    "connection_params['schema'] = \"michaelgregory\" #connection_params['schema']\n",
    "# connection_params['region'] = connection_params['extra'].pop('region')\n",
    "connection_params['application'] = connection_params['extra'].pop('application')\n",
    "snowpark_session = Session.builder.configs(connection_params).create()"
   ]
  },
  {
   "cell_type": "code",
   "execution_count": 4,
   "metadata": {},
   "outputs": [],
   "source": [
    "report_year =  2023\n",
    "report_month = 11\n",
    "month_end_day = calendar.monthrange(report_year, report_month)[1]\n",
    "end_date = min(datetime.date(report_year, report_month, month_end_day), \n",
    "               datetime.date.today())\n",
    "end_date\n",
    "account_start_cutoff_date = datetime.date(2022, 11, 15)"
   ]
  },
  {
   "cell_type": "code",
   "execution_count": 5,
   "metadata": {},
   "outputs": [],
   "source": [
    "# databases = snowpark_session.sql('SHOW DATABASES;').collect()\n",
    "# databases = [database.as_dict().get('name') for database in databases]\n",
    "# database=databases[0]\n",
    "# snowpark_session.sql(f'show views in {database}.INFORMATION_SCHEMA').collect()"
   ]
  },
  {
   "cell_type": "code",
   "execution_count": 6,
   "metadata": {},
   "outputs": [
    {
     "name": "stdout",
     "output_type": "stream",
     "text": [
      "---------------------------------------------------------------------------------\n",
      "|\"DATE\"      |\"STORAGE_BYTES\"       |\"STAGE_BYTES\"       |\"FAILSAFE_BYTES\"      |\n",
      "---------------------------------------------------------------------------------\n",
      "|2022-11-01  |1318412114663.000000  |30265748728.000000  |2243022119792.000000  |\n",
      "|2022-11-02  |1269974705905.000000  |30467999094.000000  |2396298572451.000000  |\n",
      "|2022-11-03  |848024359338.000000   |30665361069.000000  |2665574070098.000000  |\n",
      "|2022-11-04  |744313862333.000000   |30903116079.000000  |2559117254069.000000  |\n",
      "|2022-11-05  |743682015647.000000   |31058591601.000000  |2403607814104.000000  |\n",
      "|2022-11-06  |743567264855.000000   |31089002479.000000  |2166224446474.000000  |\n",
      "|2022-11-07  |746666291169.000000   |31089013625.000000  |1957733760708.000000  |\n",
      "|2022-11-08  |757508141973.000000   |31136711015.000000  |1744951427913.000000  |\n",
      "|2022-11-09  |747493999474.000000   |31226042016.000000  |1439328172229.000000  |\n",
      "|2022-11-10  |754538034519.000000   |31494802410.000000  |974840584057.000000   |\n",
      "---------------------------------------------------------------------------------\n",
      "\n"
     ]
    }
   ],
   "source": [
    "storage_history_df = snowpark_session.table('SNOWFLAKE.ACCOUNT_USAGE.STORAGE_USAGE').rename(F.col('USAGE_DATE'), 'DATE')\n",
    "storage_history_df.sort('DATE', ascending=True).show()"
   ]
  },
  {
   "cell_type": "code",
   "execution_count": 7,
   "metadata": {},
   "outputs": [
    {
     "name": "stdout",
     "output_type": "stream",
     "text": [
      "-------------------------------------------------------------------------------------------------------------------------------------------------------------------\n",
      "|\"SERVICE_TYPE\"   |\"DATE\"      |\"CREDITS_USED_COMPUTE\"  |\"CREDITS_USED_CLOUD_SERVICES\"  |\"CREDITS_USED\"  |\"CREDITS_ADJUSTMENT_CLOUD_SERVICES\"  |\"CREDITS_BILLED\"  |\n",
      "-------------------------------------------------------------------------------------------------------------------------------------------------------------------\n",
      "|AUTO_CLUSTERING  |2020-11-26  |0.000053698             |0E-9                           |0.000053698     |0E-10                                |0.0000536980      |\n",
      "|AUTO_CLUSTERING  |2020-12-08  |0.000082657             |0E-9                           |0.000082657     |0E-10                                |0.0000826570      |\n",
      "|AUTO_CLUSTERING  |2020-12-11  |0.222525375             |0E-9                           |0.222525375     |0E-10                                |0.2225253750      |\n",
      "|AUTO_CLUSTERING  |2020-12-12  |0.089361475             |0E-9                           |0.089361475     |0E-10                                |0.0893614750      |\n",
      "|AUTO_CLUSTERING  |2020-12-13  |0.019191139             |0E-9                           |0.019191139     |0E-10                                |0.0191911390      |\n",
      "|AUTO_CLUSTERING  |2020-12-14  |0.000052240             |0E-9                           |0.000052240     |0E-10                                |0.0000522400      |\n",
      "|AUTO_CLUSTERING  |2020-12-17  |0.143597097             |0E-9                           |0.143597097     |0E-10                                |0.1435970970      |\n",
      "|AUTO_CLUSTERING  |2020-12-18  |0.000062188             |0E-9                           |0.000062188     |0E-10                                |0.0000621880      |\n",
      "|AUTO_CLUSTERING  |2020-12-23  |0.638216774             |0E-9                           |0.638216774     |0E-10                                |0.6382167740      |\n",
      "|AUTO_CLUSTERING  |2020-12-24  |0.014597095             |0E-9                           |0.014597095     |0E-10                                |0.0145970950      |\n",
      "-------------------------------------------------------------------------------------------------------------------------------------------------------------------\n",
      "\n"
     ]
    }
   ],
   "source": [
    "compute_history_df = snowpark_session.table('SNOWFLAKE.ACCOUNT_USAGE.METERING_DAILY_HISTORY').rename(F.col('USAGE_DATE'), 'DATE')\n",
    "compute_history_df.sort('DATE', ascending=True).show()"
   ]
  },
  {
   "cell_type": "code",
   "execution_count": 8,
   "metadata": {},
   "outputs": [
    {
     "name": "stdout",
     "output_type": "stream",
     "text": [
      "----------------------\n",
      "|\"SERVICE_TYPE\"      |\n",
      "----------------------\n",
      "|AUTO_CLUSTERING     |\n",
      "|WAREHOUSE_METERING  |\n",
      "----------------------\n",
      "\n"
     ]
    }
   ],
   "source": [
    "compute_history_df.select('SERVICE_TYPE').distinct().show()"
   ]
  },
  {
   "cell_type": "code",
   "execution_count": 9,
   "metadata": {},
   "outputs": [],
   "source": [
    "start_date = max(min(compute_history_df.select(F.min('DATE').alias('DATE')).collect()[0][\"DATE\"],\n",
    "                     storage_history_df.select(F.min('DATE').alias('DATE')).collect()[0][\"DATE\"]),\n",
    "                account_start_cutoff_date)\n",
    "\n",
    "date_df = pd.DataFrame(pd.date_range(start=start_date, end=end_date), columns=['DATE'])\n",
    "date_df.DATE = date_df.DATE.dt.date # tz_localize('UTC').to_list()\n",
    "date_df = snowpark_session.create_dataframe(date_df)"
   ]
  },
  {
   "cell_type": "code",
   "execution_count": 10,
   "metadata": {},
   "outputs": [],
   "source": [
    "sum_cols = [x for x in storage_history_df.columns if x != storage_history_df.columns[0]]\n",
    "\n",
    "storage_used = storage_history_df.with_column('STORAGE', F.cast(sum([F.col(c) for c in sum_cols]), T.FloatType()))\\\n",
    "                                 .select(['DATE', 'STORAGE'])\\\n",
    "                                 .join(date_df, on='DATE', how='right')"
   ]
  },
  {
   "cell_type": "code",
   "execution_count": 11,
   "metadata": {},
   "outputs": [],
   "source": [
    "compute_used = compute_history_df.group_by('DATE').sum(F.col('CREDITS_USED'))\\\n",
    "                                 .join(date_df, on='DATE', how='right')\\\n",
    "                                 .rename(F.col(\"SUM(CREDITS_USED)\"), \"COMPUTE\")\\\n",
    "                                 .select([F.col('DATE'), F.cast(F.col('COMPUTE'), T.FloatType()).alias('COMPUTE')])"
   ]
  },
  {
   "cell_type": "code",
   "execution_count": 12,
   "metadata": {},
   "outputs": [],
   "source": [
    "usage_df = compute_used.join(storage_used, on='DATE').sort('DATE').fillna(0, subset=['COMPUTE', 'STORAGE']).to_pandas().set_index('DATE')"
   ]
  },
  {
   "cell_type": "code",
   "execution_count": 13,
   "metadata": {},
   "outputs": [
    {
     "data": {
      "image/png": "[encoded data removed]",
      "text/plain": [
       "<Figure size 640x480 with 2 Axes>"
      ]
     },
     "metadata": {},
     "output_type": "display_data"
    }
   ],
   "source": [
    "import matplotlib.pyplot as plt\n",
    "\n",
    "fig, axs = plt.subplots(2, 1, sharex='all', layout='constrained')\n",
    "axs[0].plot(usage_df['COMPUTE'])\n",
    "# axs[0].set_xlabel('Date')\n",
    "axs[0].set_ylabel('Credits')\n",
    "axs[0].grid(True)\n",
    "\n",
    "axs[1].plot(usage_df['STORAGE'])\n",
    "axs[1].set_xlabel('Date')\n",
    "axs[1].set_ylabel('Bytes')\n",
    "axs[1].grid(True)\n",
    "\n",
    "plt.show()"
   ]
  },
  {
   "cell_type": "code",
   "execution_count": 14,
   "metadata": {},
   "outputs": [
    {
     "data": {
      "text/plain": [
       "DATE\n",
       "2022-11-18    1.699329e+12\n",
       "2022-11-16    1.701101e+12\n",
       "2022-11-15    1.705230e+12\n",
       "2022-11-17    1.710054e+12\n",
       "2022-11-19    1.718348e+12\n",
       "                  ...     \n",
       "2023-10-26    5.948175e+12\n",
       "2023-10-12    5.957607e+12\n",
       "2023-10-28    5.959866e+12\n",
       "2023-10-13    5.966874e+12\n",
       "2023-10-27    6.027011e+12\n",
       "Name: STORAGE, Length: 358, dtype: float64"
      ]
     },
     "execution_count": 14,
     "metadata": {},
     "output_type": "execute_result"
    }
   ],
   "source": [
    "usage_df['STORAGE'].sort_values()"
   ]
  },
  {
   "cell_type": "code",
   "execution_count": 15,
   "metadata": {},
   "outputs": [],
   "source": [
    "from sklearn.preprocessing import StandardScaler"
   ]
  },
  {
   "cell_type": "code",
   "execution_count": 16,
   "metadata": {},
   "outputs": [],
   "source": [
    "scalar = StandardScaler() \n",
    "# usage_df[['COMPUTE', 'STORAGE']] = scalar.fit_transform(usage_df[['COMPUTE', 'STORAGE']])"
   ]
  },
  {
   "cell_type": "code",
   "execution_count": 17,
   "metadata": {},
   "outputs": [],
   "source": [
    "# usage_df[['COMPUTE', 'STORAGE']]"
   ]
  },
  {
   "cell_type": "code",
   "execution_count": 18,
   "metadata": {},
   "outputs": [
    {
     "data": {
      "text/plain": [
       "{'conn_type': 'snowflake',\n",
       " 'password': 'tyur5tgb^YHN',\n",
       " 'schema': 'michaelgregory',\n",
       " 'extra': {'account': 'FY02423-SNOWSERVICES_PREVIEW',\n",
       "  'warehouse': 'HUMANS',\n",
       "  'database': 'demo',\n",
       "  'region': '',\n",
       "  'role': 'MICHAELGREGORY',\n",
       "  'authenticator': 'snowflake'},\n",
       " 'user': 'MICHAELGREGORY',\n",
       " 'account': 'FY02423-GP21411',\n",
       " 'database': 'sandbox',\n",
       " 'application': 'AIRFLOW'}"
      ]
     },
     "execution_count": 18,
     "metadata": {},
     "output_type": "execute_result"
    }
   ],
   "source": [
    "connection_params"
   ]
  },
  {
   "cell_type": "code",
   "execution_count": 19,
   "metadata": {},
   "outputs": [],
   "source": [
    "currency_usage = snowpark_session.table('SNOWFLAKE.ORGANIZATION_USAGE.USAGE_IN_CURRENCY_DAILY')"
   ]
  },
  {
   "cell_type": "code",
   "execution_count": 20,
   "metadata": {},
   "outputs": [
    {
     "name": "stdout",
     "output_type": "stream",
     "text": [
      "--------------------------------------------------------------------------------------------------------------------------------------------------------------------------------------------------------------------\n",
      "|\"ORGANIZATION_NAME\"  |\"CONTRACT_NUMBER\"  |\"ACCOUNT_NAME\"  |\"ACCOUNT_LOCATOR\"  |\"REGION\"       |\"SERVICE_LEVEL\"  |\"USAGE_DATE\"  |\"USAGE_TYPE\"     |\"CURRENCY\"  |\"USAGE\"   |\"USAGE_IN_CURRENCY\"  |\"BALANCE_SOURCE\"  |\n",
      "--------------------------------------------------------------------------------------------------------------------------------------------------------------------------------------------------------------------\n",
      "|FY02423              |19072              |GP21411         |GP21411            |AWS_US_EAST_1  |Standard         |2021-12-30    |overage-storage  |USD         |0.007724  |0.308969             |Overage           |\n",
      "|FY02423              |19072              |GP21411         |GP21411            |AWS_US_EAST_1  |Standard         |2021-12-29    |overage-storage  |USD         |0.007740  |0.309587             |Overage           |\n",
      "|FY02423              |19072              |GP21411         |GP21411            |AWS_US_EAST_1  |Standard         |2021-12-28    |overage-storage  |USD         |0.007676  |0.307042             |Overage           |\n",
      "|FY02423              |19072              |GP21411         |GP21411            |AWS_US_EAST_1  |Standard         |2021-12-27    |overage-storage  |USD         |0.007651  |0.306057             |Overage           |\n",
      "|FY02423              |19072              |GP21411         |GP21411            |AWS_US_EAST_1  |Standard         |2021-12-26    |overage-storage  |USD         |0.007627  |0.305087             |Overage           |\n",
      "|FY02423              |19072              |GP21411         |GP21411            |AWS_US_EAST_1  |Standard         |2021-12-25    |overage-storage  |USD         |0.007437  |0.297490             |Overage           |\n",
      "|FY02423              |19072              |GP21411         |GP21411            |AWS_US_EAST_1  |Standard         |2021-12-24    |overage-storage  |USD         |0.006888  |0.275533             |Overage           |\n",
      "|FY02423              |19072              |GP21411         |GP21411            |AWS_US_EAST_1  |Standard         |2021-12-23    |overage-storage  |USD         |0.006806  |0.272229             |Overage           |\n",
      "|FY02423              |19072              |GP21411         |GP21411            |AWS_US_EAST_1  |Standard         |2021-12-22    |overage-storage  |USD         |0.006781  |0.271247             |Overage           |\n",
      "|FY02423              |19072              |GP21411         |GP21411            |AWS_US_EAST_1  |Standard         |2021-12-21    |overage-storage  |USD         |0.006773  |0.270932             |Overage           |\n",
      "--------------------------------------------------------------------------------------------------------------------------------------------------------------------------------------------------------------------\n",
      "\n"
     ]
    }
   ],
   "source": [
    "#currency_usage.where(F.col('USAGE_DATE') == '2023-11-06').show()\n",
    "currency_usage.where(F.col('USAGE_TYPE') == 'overage-storage').sort('USAGE_DATE', ascending=False).show()"
   ]
  },
  {
   "cell_type": "code",
   "execution_count": null,
   "metadata": {},
   "outputs": [],
   "source": [
    "\n"
   ]
  },
  {
   "cell_type": "code",
   "execution_count": 21,
   "metadata": {},
   "outputs": [],
   "source": [
    "#snowpark_session.close()"
   ]
  },
  {
   "cell_type": "code",
   "execution_count": null,
   "metadata": {},
   "outputs": [],
   "source": []
  },
  {
   "cell_type": "code",
   "execution_count": null,
   "metadata": {},
   "outputs": [],
   "source": []
  }
 ],
 "metadata": {
  "kernelspec": {
   "display_name": "snowcast",
   "language": "python",
   "name": "python3"
  },
  "language_info": {
   "codemirror_mode": {
    "name": "ipython",
    "version": 3
   },
   "file_extension": ".py",
   "mimetype": "text/x-python",
   "name": "python",
   "nbconvert_exporter": "python",
   "pygments_lexer": "ipython3",
   "version": "3.10.11"
  },
  "orig_nbformat": 4
 },
 "nbformat": 4,
 "nbformat_minor": 2
}
